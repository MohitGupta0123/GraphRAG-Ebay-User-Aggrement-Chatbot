{
 "cells": [
  {
   "cell_type": "code",
   "execution_count": 15,
   "id": "c9274442",
   "metadata": {},
   "outputs": [
    {
     "name": "stdout",
     "output_type": "stream",
     "text": [
      "HF_TOKEN loaded successfully\n",
      "Neo4j credentials loaded successfully\n"
     ]
    }
   ],
   "source": [
    "from dotenv import load_dotenv\n",
    "import os\n",
    "\n",
    "# Load environment variables from .env file\n",
    "load_dotenv(dotenv_path=r\"C:\\Users\\Asus\\Downloads\\GraphRAG Project\\Secrets\\.env\")\n",
    "\n",
    "# Retrieve the Hugging Face token\n",
    "HF_TOKEN = os.getenv(\"HF_TOKEN\")\n",
    "if not HF_TOKEN:\n",
    "    raise ValueError(\"HF_TOKEN not found in environment variables\")\n",
    "else:\n",
    "    print(\"HF_TOKEN loaded successfully\")\n",
    "\n",
    "# Neo4j Credentials\n",
    "NEO4J_URI = os.getenv(\"NEO4J_URI\")\n",
    "NEO4J_USERNAME = os.getenv(\"NEO4J_USERNAME\")\n",
    "NEO4J_PASSWORD = os.getenv(\"NEO4J_PASSWORD\")\n",
    "NEO4J_DATABASE = os.getenv(\"NEO4J_DATABASE\", \"neo4j\")\n",
    "\n",
    "# Check if all are loaded\n",
    "if not all([NEO4J_URI, NEO4J_USERNAME, NEO4J_PASSWORD, NEO4J_DATABASE]):\n",
    "    raise ValueError(\"One or more Neo4j credentials are missing in environment variables\")\n",
    "\n",
    "print(\"Neo4j credentials loaded successfully\")"
   ]
  },
  {
   "cell_type": "code",
   "execution_count": 16,
   "id": "9b529be0",
   "metadata": {},
   "outputs": [],
   "source": [
    "AUTH = (NEO4J_USERNAME, NEO4J_PASSWORD)"
   ]
  },
  {
   "cell_type": "code",
   "execution_count": 17,
   "id": "31091666",
   "metadata": {},
   "outputs": [],
   "source": [
    "import json\n",
    "with open(r\"C:\\Users\\Asus\\Downloads\\GraphRAG Project\\Triples\\graphrag_triplets.json\", \"r\") as f:\n",
    "    triplets = json.load(f)"
   ]
  },
  {
   "cell_type": "code",
   "execution_count": 18,
   "id": "ecfd63db",
   "metadata": {},
   "outputs": [
    {
     "data": {
      "text/plain": [
       "810"
      ]
     },
     "execution_count": 18,
     "metadata": {},
     "output_type": "execute_result"
    }
   ],
   "source": [
    "len(triplets)"
   ]
  },
  {
   "cell_type": "code",
   "execution_count": 19,
   "id": "101acc64",
   "metadata": {},
   "outputs": [],
   "source": [
    "from neo4j import GraphDatabase\n",
    "\n",
    "# Initialize the Neo4j driver\n",
    "driver = GraphDatabase.driver(NEO4J_URI, auth=(NEO4J_USERNAME, NEO4J_PASSWORD))"
   ]
  },
  {
   "cell_type": "code",
   "execution_count": 20,
   "id": "6ec8b30a",
   "metadata": {},
   "outputs": [],
   "source": [
    "import re\n",
    "\n",
    "def sanitize_relation(rel):\n",
    "    # Replace spaces with underscores, remove invalid characters\n",
    "    rel = rel.strip().lower().replace(\" \", \"_\")\n",
    "    rel = re.sub(r\"[^a-zA-Z0-9_]\", \"\", rel)  # Keep only alphanumerics and underscores\n",
    "    if re.match(r\"^\\d\", rel):  # If it starts with digit, prefix it\n",
    "        rel = \"rel_\" + rel\n",
    "    return rel\n",
    "\n",
    "def insert_triplet(tx, subj, rel, obj):\n",
    "    rel_clean = sanitize_relation(rel)\n",
    "    query = f\"\"\"\n",
    "    MERGE (a:Entity {{name: $subj}})\n",
    "    MERGE (b:Entity {{name: $obj}})\n",
    "    MERGE (a)-[r:{rel_clean}]->(b)\n",
    "    \"\"\"\n",
    "    \n",
    "    tx.run(query, subj=subj, obj=obj)\n",
    "\n",
    "\n",
    "def load_triplets_to_neo4j(filepath):\n",
    "    import json\n",
    "    with open(filepath, 'r') as f:\n",
    "        triplets = json.load(f)\n",
    "\n",
    "    with driver.session() as session:\n",
    "        for t in triplets:\n",
    "            session.execute_write(insert_triplet, t['subject'], t['relation'], t['object'])\n",
    "\n",
    "# Usage\n",
    "load_triplets_to_neo4j(r'C:\\Users\\Asus\\Downloads\\GraphRAG Project\\Triples\\graphrag_triplets.json')"
   ]
  },
  {
   "cell_type": "code",
   "execution_count": 21,
   "id": "118afe6d",
   "metadata": {},
   "outputs": [],
   "source": [
    "def save_kg_summary():\n",
    "    with driver.session() as session:\n",
    "        node_count = session.run(\"MATCH (n) RETURN count(n)\").single()[0]\n",
    "        rel_count = session.run(\"MATCH ()-[r]->() RETURN count(r)\").single()[0]\n",
    "        rel_types = session.run(\"MATCH ()-[r]->() RETURN DISTINCT type(r)\").value()\n",
    "\n",
    "    summary = {\n",
    "        \"nodes\": node_count,\n",
    "        \"relations\": rel_count,\n",
    "        \"relation_types\": rel_types\n",
    "    }\n",
    "\n",
    "    with open(r\"C:\\Users\\Asus\\Downloads\\GraphRAG Project\\KG\\summary.json\", \"w\") as f:\n",
    "        json.dump(summary, f, indent=4)\n",
    "\n",
    "save_kg_summary()"
   ]
  },
  {
   "cell_type": "code",
   "execution_count": 22,
   "id": "473b6418",
   "metadata": {},
   "outputs": [],
   "source": [
    "driver.close()"
   ]
  },
  {
   "cell_type": "code",
   "execution_count": 23,
   "id": "e4cbe8dd",
   "metadata": {},
   "outputs": [
    {
     "name": "stdout",
     "output_type": "stream",
     "text": [
      "✅ Graph saved as 'knowledge_graph_image.png'\n"
     ]
    }
   ],
   "source": [
    "import matplotlib.pyplot as plt\n",
    "import networkx as nx\n",
    "\n",
    "# Connect to Neo4j\n",
    "driver = GraphDatabase.driver(NEO4J_URI, auth=(NEO4J_USERNAME, NEO4J_PASSWORD))\n",
    "\n",
    "def get_triples():\n",
    "    with driver.session() as session:\n",
    "        result = session.run(\"\"\"\n",
    "            MATCH (a)-[r]->(b)\n",
    "            RETURN a.name AS source, type(r) AS relation, b.name AS target\n",
    "        \"\"\")\n",
    "        return [(row[\"source\"], row[\"target\"], row[\"relation\"]) for row in result]\n",
    "\n",
    "triples = get_triples()\n",
    "\n",
    "# Build graph\n",
    "G = nx.DiGraph()\n",
    "for source, target, rel in triples:\n",
    "    G.add_edge(source, target, label=rel)\n",
    "\n",
    "# Draw graph\n",
    "plt.figure(figsize=(16, 12))\n",
    "pos = nx.spring_layout(G, k=0.5)\n",
    "nx.draw(G, pos, with_labels=True, node_color='skyblue', edge_color='gray', node_size=2000, font_size=10)\n",
    "edge_labels = nx.get_edge_attributes(G, 'label')\n",
    "nx.draw_networkx_edge_labels(G, pos, edge_labels=edge_labels, font_size=8)\n",
    "\n",
    "# Save as image\n",
    "plt.title(\"Knowledge Graph from Neo4j\")\n",
    "plt.savefig(r\"C:\\Users\\Asus\\Downloads\\GraphRAG Project\\KG\\knowledge_graph_image.png\", format=\"PNG\", dpi=400)\n",
    "plt.close()\n",
    "\n",
    "print(\"✅ Graph saved as 'knowledge_graph_image.png'\")\n",
    "\n",
    "driver.close()\n"
   ]
  },
  {
   "cell_type": "code",
   "execution_count": null,
   "id": "97674daa",
   "metadata": {},
   "outputs": [],
   "source": []
  }
 ],
 "metadata": {
  "kernelspec": {
   "display_name": ".venv",
   "language": "python",
   "name": "python3"
  },
  "language_info": {
   "codemirror_mode": {
    "name": "ipython",
    "version": 3
   },
   "file_extension": ".py",
   "mimetype": "text/x-python",
   "name": "python",
   "nbconvert_exporter": "python",
   "pygments_lexer": "ipython3",
   "version": "3.12.4"
  }
 },
 "nbformat": 4,
 "nbformat_minor": 5
}
